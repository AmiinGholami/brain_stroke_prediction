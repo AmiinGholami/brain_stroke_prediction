{
 "cells": [
  {
   "cell_type": "code",
   "execution_count": 1,
   "id": "a086142d-f422-4dc6-9d93-bdfc123cfa2f",
   "metadata": {},
   "outputs": [],
   "source": [
    "import pandas as pd\n",
    "import numpy as np\n",
    "import warnings\n",
    "warnings.filterwarnings(\"ignore\")"
   ]
  },
  {
   "cell_type": "code",
   "execution_count": 2,
   "id": "4cf47bc1-89b3-4d4b-81bd-620382196ff3",
   "metadata": {},
   "outputs": [
    {
     "data": {
      "text/html": [
       "<div>\n",
       "<style scoped>\n",
       "    .dataframe tbody tr th:only-of-type {\n",
       "        vertical-align: middle;\n",
       "    }\n",
       "\n",
       "    .dataframe tbody tr th {\n",
       "        vertical-align: top;\n",
       "    }\n",
       "\n",
       "    .dataframe thead th {\n",
       "        text-align: right;\n",
       "    }\n",
       "</style>\n",
       "<table border=\"1\" class=\"dataframe\">\n",
       "  <thead>\n",
       "    <tr style=\"text-align: right;\">\n",
       "      <th></th>\n",
       "      <th>id</th>\n",
       "      <th>gender</th>\n",
       "      <th>age</th>\n",
       "      <th>hypertension</th>\n",
       "      <th>heart_disease</th>\n",
       "      <th>ever_married</th>\n",
       "      <th>work_type</th>\n",
       "      <th>Residence_type</th>\n",
       "      <th>avg_glucose_level</th>\n",
       "      <th>bmi</th>\n",
       "      <th>smoking_status</th>\n",
       "      <th>stroke</th>\n",
       "    </tr>\n",
       "  </thead>\n",
       "  <tbody>\n",
       "    <tr>\n",
       "      <th>0</th>\n",
       "      <td>9046</td>\n",
       "      <td>Male</td>\n",
       "      <td>67.0</td>\n",
       "      <td>0</td>\n",
       "      <td>1</td>\n",
       "      <td>Yes</td>\n",
       "      <td>Private</td>\n",
       "      <td>Urban</td>\n",
       "      <td>228.69</td>\n",
       "      <td>36.6</td>\n",
       "      <td>formerly smoked</td>\n",
       "      <td>1</td>\n",
       "    </tr>\n",
       "    <tr>\n",
       "      <th>1</th>\n",
       "      <td>51676</td>\n",
       "      <td>Female</td>\n",
       "      <td>61.0</td>\n",
       "      <td>0</td>\n",
       "      <td>0</td>\n",
       "      <td>Yes</td>\n",
       "      <td>Self-employed</td>\n",
       "      <td>Rural</td>\n",
       "      <td>202.21</td>\n",
       "      <td>NaN</td>\n",
       "      <td>never smoked</td>\n",
       "      <td>1</td>\n",
       "    </tr>\n",
       "    <tr>\n",
       "      <th>2</th>\n",
       "      <td>31112</td>\n",
       "      <td>Male</td>\n",
       "      <td>80.0</td>\n",
       "      <td>0</td>\n",
       "      <td>1</td>\n",
       "      <td>Yes</td>\n",
       "      <td>Private</td>\n",
       "      <td>Rural</td>\n",
       "      <td>105.92</td>\n",
       "      <td>32.5</td>\n",
       "      <td>never smoked</td>\n",
       "      <td>1</td>\n",
       "    </tr>\n",
       "    <tr>\n",
       "      <th>3</th>\n",
       "      <td>60182</td>\n",
       "      <td>Female</td>\n",
       "      <td>49.0</td>\n",
       "      <td>0</td>\n",
       "      <td>0</td>\n",
       "      <td>Yes</td>\n",
       "      <td>Private</td>\n",
       "      <td>Urban</td>\n",
       "      <td>171.23</td>\n",
       "      <td>34.4</td>\n",
       "      <td>smokes</td>\n",
       "      <td>1</td>\n",
       "    </tr>\n",
       "    <tr>\n",
       "      <th>4</th>\n",
       "      <td>1665</td>\n",
       "      <td>Female</td>\n",
       "      <td>79.0</td>\n",
       "      <td>1</td>\n",
       "      <td>0</td>\n",
       "      <td>Yes</td>\n",
       "      <td>Self-employed</td>\n",
       "      <td>Rural</td>\n",
       "      <td>174.12</td>\n",
       "      <td>24.0</td>\n",
       "      <td>never smoked</td>\n",
       "      <td>1</td>\n",
       "    </tr>\n",
       "  </tbody>\n",
       "</table>\n",
       "</div>"
      ],
      "text/plain": [
       "      id  gender   age  hypertension  heart_disease ever_married  \\\n",
       "0   9046    Male  67.0             0              1          Yes   \n",
       "1  51676  Female  61.0             0              0          Yes   \n",
       "2  31112    Male  80.0             0              1          Yes   \n",
       "3  60182  Female  49.0             0              0          Yes   \n",
       "4   1665  Female  79.0             1              0          Yes   \n",
       "\n",
       "       work_type Residence_type  avg_glucose_level   bmi   smoking_status  \\\n",
       "0        Private          Urban             228.69  36.6  formerly smoked   \n",
       "1  Self-employed          Rural             202.21   NaN     never smoked   \n",
       "2        Private          Rural             105.92  32.5     never smoked   \n",
       "3        Private          Urban             171.23  34.4           smokes   \n",
       "4  Self-employed          Rural             174.12  24.0     never smoked   \n",
       "\n",
       "   stroke  \n",
       "0       1  \n",
       "1       1  \n",
       "2       1  \n",
       "3       1  \n",
       "4       1  "
      ]
     },
     "execution_count": 2,
     "metadata": {},
     "output_type": "execute_result"
    }
   ],
   "source": [
    "Healthcare=pd.read_csv(\"healthcare-dataset-stroke-data.csv\")\n",
    "Healthcare.head()"
   ]
  },
  {
   "cell_type": "code",
   "execution_count": 3,
   "id": "169b262c-fcf4-45c3-8783-2b937db89c86",
   "metadata": {},
   "outputs": [
    {
     "data": {
      "text/plain": [
       "(5110, 12)"
      ]
     },
     "execution_count": 3,
     "metadata": {},
     "output_type": "execute_result"
    }
   ],
   "source": [
    "Healthcare.shape"
   ]
  },
  {
   "cell_type": "code",
   "execution_count": 4,
   "id": "69ba7d6b-f732-4189-8882-b6af4610bebf",
   "metadata": {
    "scrolled": true
   },
   "outputs": [
    {
     "name": "stdout",
     "output_type": "stream",
     "text": [
      "<class 'pandas.core.frame.DataFrame'>\n",
      "RangeIndex: 5110 entries, 0 to 5109\n",
      "Data columns (total 12 columns):\n",
      " #   Column             Non-Null Count  Dtype  \n",
      "---  ------             --------------  -----  \n",
      " 0   id                 5110 non-null   int64  \n",
      " 1   gender             5110 non-null   object \n",
      " 2   age                5110 non-null   float64\n",
      " 3   hypertension       5110 non-null   int64  \n",
      " 4   heart_disease      5110 non-null   int64  \n",
      " 5   ever_married       5110 non-null   object \n",
      " 6   work_type          5110 non-null   object \n",
      " 7   Residence_type     5110 non-null   object \n",
      " 8   avg_glucose_level  5110 non-null   float64\n",
      " 9   bmi                4909 non-null   float64\n",
      " 10  smoking_status     5110 non-null   object \n",
      " 11  stroke             5110 non-null   int64  \n",
      "dtypes: float64(3), int64(4), object(5)\n",
      "memory usage: 479.2+ KB\n"
     ]
    }
   ],
   "source": [
    "Healthcare.info()"
   ]
  },
  {
   "cell_type": "markdown",
   "id": "e75ed4c9-b873-4fbe-a612-ec304339dd31",
   "metadata": {},
   "source": [
    "MetaData"
   ]
  },
  {
   "cell_type": "markdown",
   "id": "75a72432-731a-4e9b-83d2-cc0889d73942",
   "metadata": {},
   "source": [
    "Dataset Name: Stroke Prediction Dataset\n",
    "\n",
    "Description: This dataset contains information on individuals' health factors, including medical conditions, lifestyle habits, and demographics, to predict the likelihood of a stroke occurrence.\n",
    "\n",
    "Data Columns:\n",
    "\n",
    "id (int64): Unique identifier for each record. \n",
    "gender (object): Gender of the individual (e.g., \"Male\", \"Female\").  \n",
    "age (float64): Age of the individual in years.  \n",
    "hypertension (int64): Whether the individual has hypertension (1 = Yes, 0 = No).  \n",
    "heart_disease (int64): Whether the individual has heart disease (1 = Yes, 0 = No).  \n",
    "ever_married (object): Marital status (\"Yes\", \"No\").  \n",
    "work_type (object): The type of work the individual does (\"Private\", \"Self-employed\", \"Govt_job\", \"children\", \"Never_worked\").  \n",
    "Residence_type (object): Type of area where the individual resides (\"Urban\", \"Rural\").  \n",
    "avg_glucose_level (float64): Average glucose level in the blood.  \n",
    "bmi (float64): Body Mass Index (BMI). Some values may be missing (4910 non-null entries).  \n",
    "smoking_status (object): Smoking status (\"formerly smoked\", \"Never smoked\", \"Smokes\", \"Unknown\").  \n",
    "stroke (int64): Target variable indicating whether the individual had a stroke (1 = Yes, 0 = No)."
   ]
  },
  {
   "cell_type": "code",
   "execution_count": 5,
   "id": "a79feb38-a26d-4933-a1f9-e72590c7b53e",
   "metadata": {},
   "outputs": [
    {
     "data": {
      "text/plain": [
       "np.int64(0)"
      ]
     },
     "execution_count": 5,
     "metadata": {},
     "output_type": "execute_result"
    }
   ],
   "source": [
    "np.sum(Healthcare.duplicated())"
   ]
  },
  {
   "cell_type": "code",
   "execution_count": 6,
   "id": "73db8488-da33-4217-8ed5-f883271258ac",
   "metadata": {},
   "outputs": [
    {
     "data": {
      "text/plain": [
       "id                     0\n",
       "gender                 0\n",
       "age                    0\n",
       "hypertension           0\n",
       "heart_disease          0\n",
       "ever_married           0\n",
       "work_type              0\n",
       "Residence_type         0\n",
       "avg_glucose_level      0\n",
       "bmi                  201\n",
       "smoking_status         0\n",
       "stroke                 0\n",
       "dtype: int64"
      ]
     },
     "execution_count": 6,
     "metadata": {},
     "output_type": "execute_result"
    }
   ],
   "source": [
    "np.sum(Healthcare.isnull())"
   ]
  },
  {
   "cell_type": "code",
   "execution_count": 7,
   "id": "4764c087-616a-4c61-a6b9-1f279ded3e48",
   "metadata": {},
   "outputs": [
    {
     "name": "stdout",
     "output_type": "stream",
     "text": [
      "Percentage of missing values in 'bmi': 3.93%\n"
     ]
    }
   ],
   "source": [
    "missing_percentage = Healthcare['bmi'].isnull().mean() * 100\n",
    "print(f\"Percentage of missing values in '{'bmi'}': {missing_percentage:.2f}%\")"
   ]
  },
  {
   "cell_type": "code",
   "execution_count": 8,
   "id": "5d2293c5-305a-40d8-98f2-f9a8b164da81",
   "metadata": {},
   "outputs": [
    {
     "data": {
      "text/html": [
       "<div>\n",
       "<style scoped>\n",
       "    .dataframe tbody tr th:only-of-type {\n",
       "        vertical-align: middle;\n",
       "    }\n",
       "\n",
       "    .dataframe tbody tr th {\n",
       "        vertical-align: top;\n",
       "    }\n",
       "\n",
       "    .dataframe thead th {\n",
       "        text-align: right;\n",
       "    }\n",
       "</style>\n",
       "<table border=\"1\" class=\"dataframe\">\n",
       "  <thead>\n",
       "    <tr style=\"text-align: right;\">\n",
       "      <th></th>\n",
       "      <th>id</th>\n",
       "      <th>gender</th>\n",
       "      <th>age</th>\n",
       "      <th>hypertension</th>\n",
       "      <th>heart_disease</th>\n",
       "      <th>ever_married</th>\n",
       "      <th>work_type</th>\n",
       "      <th>Residence_type</th>\n",
       "      <th>avg_glucose_level</th>\n",
       "      <th>bmi</th>\n",
       "      <th>smoking_status</th>\n",
       "      <th>stroke</th>\n",
       "    </tr>\n",
       "  </thead>\n",
       "  <tbody>\n",
       "    <tr>\n",
       "      <th>0</th>\n",
       "      <td>9046</td>\n",
       "      <td>Male</td>\n",
       "      <td>67.0</td>\n",
       "      <td>0</td>\n",
       "      <td>1</td>\n",
       "      <td>Yes</td>\n",
       "      <td>Private</td>\n",
       "      <td>Urban</td>\n",
       "      <td>228.69</td>\n",
       "      <td>36.600000</td>\n",
       "      <td>formerly smoked</td>\n",
       "      <td>1</td>\n",
       "    </tr>\n",
       "    <tr>\n",
       "      <th>1</th>\n",
       "      <td>51676</td>\n",
       "      <td>Female</td>\n",
       "      <td>61.0</td>\n",
       "      <td>0</td>\n",
       "      <td>0</td>\n",
       "      <td>Yes</td>\n",
       "      <td>Self-employed</td>\n",
       "      <td>Rural</td>\n",
       "      <td>202.21</td>\n",
       "      <td>28.893237</td>\n",
       "      <td>never smoked</td>\n",
       "      <td>1</td>\n",
       "    </tr>\n",
       "    <tr>\n",
       "      <th>2</th>\n",
       "      <td>31112</td>\n",
       "      <td>Male</td>\n",
       "      <td>80.0</td>\n",
       "      <td>0</td>\n",
       "      <td>1</td>\n",
       "      <td>Yes</td>\n",
       "      <td>Private</td>\n",
       "      <td>Rural</td>\n",
       "      <td>105.92</td>\n",
       "      <td>32.500000</td>\n",
       "      <td>never smoked</td>\n",
       "      <td>1</td>\n",
       "    </tr>\n",
       "    <tr>\n",
       "      <th>3</th>\n",
       "      <td>60182</td>\n",
       "      <td>Female</td>\n",
       "      <td>49.0</td>\n",
       "      <td>0</td>\n",
       "      <td>0</td>\n",
       "      <td>Yes</td>\n",
       "      <td>Private</td>\n",
       "      <td>Urban</td>\n",
       "      <td>171.23</td>\n",
       "      <td>34.400000</td>\n",
       "      <td>smokes</td>\n",
       "      <td>1</td>\n",
       "    </tr>\n",
       "    <tr>\n",
       "      <th>4</th>\n",
       "      <td>1665</td>\n",
       "      <td>Female</td>\n",
       "      <td>79.0</td>\n",
       "      <td>1</td>\n",
       "      <td>0</td>\n",
       "      <td>Yes</td>\n",
       "      <td>Self-employed</td>\n",
       "      <td>Rural</td>\n",
       "      <td>174.12</td>\n",
       "      <td>24.000000</td>\n",
       "      <td>never smoked</td>\n",
       "      <td>1</td>\n",
       "    </tr>\n",
       "  </tbody>\n",
       "</table>\n",
       "</div>"
      ],
      "text/plain": [
       "      id  gender   age  hypertension  heart_disease ever_married  \\\n",
       "0   9046    Male  67.0             0              1          Yes   \n",
       "1  51676  Female  61.0             0              0          Yes   \n",
       "2  31112    Male  80.0             0              1          Yes   \n",
       "3  60182  Female  49.0             0              0          Yes   \n",
       "4   1665  Female  79.0             1              0          Yes   \n",
       "\n",
       "       work_type Residence_type  avg_glucose_level        bmi  \\\n",
       "0        Private          Urban             228.69  36.600000   \n",
       "1  Self-employed          Rural             202.21  28.893237   \n",
       "2        Private          Rural             105.92  32.500000   \n",
       "3        Private          Urban             171.23  34.400000   \n",
       "4  Self-employed          Rural             174.12  24.000000   \n",
       "\n",
       "    smoking_status  stroke  \n",
       "0  formerly smoked       1  \n",
       "1     never smoked       1  \n",
       "2     never smoked       1  \n",
       "3           smokes       1  \n",
       "4     never smoked       1  "
      ]
     },
     "execution_count": 8,
     "metadata": {},
     "output_type": "execute_result"
    }
   ],
   "source": [
    "Healthcare['bmi'].fillna(Healthcare['bmi'].mean(),inplace=True)\n",
    "Healthcare.head()"
   ]
  },
  {
   "cell_type": "code",
   "execution_count": 9,
   "id": "a74177b0-d1a8-46f8-83d6-ac12a7414c4a",
   "metadata": {},
   "outputs": [
    {
     "data": {
      "text/plain": [
       "id                   0\n",
       "gender               0\n",
       "age                  0\n",
       "hypertension         0\n",
       "heart_disease        0\n",
       "ever_married         0\n",
       "work_type            0\n",
       "Residence_type       0\n",
       "avg_glucose_level    0\n",
       "bmi                  0\n",
       "smoking_status       0\n",
       "stroke               0\n",
       "dtype: int64"
      ]
     },
     "execution_count": 9,
     "metadata": {},
     "output_type": "execute_result"
    }
   ],
   "source": [
    "np.sum(Healthcare.isnull())"
   ]
  },
  {
   "cell_type": "code",
   "execution_count": 10,
   "id": "2924ecdb-46a1-4aa2-8c04-c31089544ce5",
   "metadata": {},
   "outputs": [
    {
     "data": {
      "text/plain": [
       "np.float64(0.0)"
      ]
     },
     "execution_count": 10,
     "metadata": {},
     "output_type": "execute_result"
    }
   ],
   "source": [
    "Healthcare['bmi'].isnull().mean() * 100"
   ]
  },
  {
   "cell_type": "code",
   "execution_count": 11,
   "id": "a6722de4-97ed-4d1c-9966-bbdf9199b70c",
   "metadata": {},
   "outputs": [],
   "source": [
    "Healthcare.drop(\"id\",axis=1,inplace=True)"
   ]
  },
  {
   "cell_type": "code",
   "execution_count": 12,
   "id": "5a8a410f-a481-4c5e-bcda-2d04f8fca297",
   "metadata": {},
   "outputs": [],
   "source": [
    "Healthcare['gender']=Healthcare['gender'].apply(lambda x: 0 if x==\"Male\" else(1 if x==\"Female\" else 2))"
   ]
  },
  {
   "cell_type": "code",
   "execution_count": 13,
   "id": "2029dc4a-e9e8-41e2-a730-4d6f181f0171",
   "metadata": {},
   "outputs": [],
   "source": [
    "Healthcare['ever_married']=Healthcare['ever_married'].apply(lambda x: 0 if x==\"No\" else 1)"
   ]
  },
  {
   "cell_type": "code",
   "execution_count": 14,
   "id": "8d521d29-ef79-4218-b0e3-68b77539384b",
   "metadata": {},
   "outputs": [],
   "source": [
    "Healthcare['Residence_type']=Healthcare['Residence_type'].apply(lambda x: 0 if x==\"Urban\" else 1)"
   ]
  },
  {
   "cell_type": "code",
   "execution_count": 15,
   "id": "41b06d06-d249-4123-ade6-dfec88d0da4a",
   "metadata": {},
   "outputs": [],
   "source": [
    "Healthcare_encoded=pd.get_dummies(Healthcare,columns=[\"work_type\",\"smoking_status\"],drop_first=True)"
   ]
  },
  {
   "cell_type": "code",
   "execution_count": 18,
   "id": "b4b81ab5-2476-4b85-b030-0e2593a9b9d4",
   "metadata": {},
   "outputs": [
    {
     "name": "stdout",
     "output_type": "stream",
     "text": [
      "<class 'pandas.core.frame.DataFrame'>\n",
      "RangeIndex: 5110 entries, 0 to 5109\n",
      "Data columns (total 17 columns):\n",
      " #   Column                          Non-Null Count  Dtype  \n",
      "---  ------                          --------------  -----  \n",
      " 0   age                             5110 non-null   float64\n",
      " 1   hypertension                    5110 non-null   int64  \n",
      " 2   heart_disease                   5110 non-null   int64  \n",
      " 3   avg_glucose_level               5110 non-null   float64\n",
      " 4   bmi                             5110 non-null   float64\n",
      " 5   stroke                          5110 non-null   int64  \n",
      " 6   gender_Male                     5110 non-null   bool   \n",
      " 7   gender_Other                    5110 non-null   bool   \n",
      " 8   ever_married_Yes                5110 non-null   bool   \n",
      " 9   Residence_type_Urban            5110 non-null   bool   \n",
      " 10  work_type_Never_worked          5110 non-null   bool   \n",
      " 11  work_type_Private               5110 non-null   bool   \n",
      " 12  work_type_Self-employed         5110 non-null   bool   \n",
      " 13  work_type_children              5110 non-null   bool   \n",
      " 14  smoking_status_formerly smoked  5110 non-null   bool   \n",
      " 15  smoking_status_never smoked     5110 non-null   bool   \n",
      " 16  smoking_status_smokes           5110 non-null   bool   \n",
      "dtypes: bool(11), float64(3), int64(3)\n",
      "memory usage: 294.6 KB\n"
     ]
    }
   ],
   "source": [
    "Healthcare_encoded.head()"
   ]
  },
  {
   "cell_type": "code",
   "execution_count": 19,
   "id": "59806691-a187-4780-9709-27ba56c667f1",
   "metadata": {},
   "outputs": [],
   "source": [
    "numeric_Healthcare = Healthcare_encoded.select_dtypes(include=['number'])"
   ]
  },
  {
   "cell_type": "code",
   "execution_count": 20,
   "id": "e409d3a7-3b85-42fa-a7e0-1de3508435a2",
   "metadata": {},
   "outputs": [
    {
     "name": "stdout",
     "output_type": "stream",
     "text": [
      "age                    0\n",
      "hypertension         498\n",
      "heart_disease        276\n",
      "avg_glucose_level    627\n",
      "bmi                  126\n",
      "stroke               249\n",
      "dtype: int64\n"
     ]
    }
   ],
   "source": [
    "Q1 = numeric_Healthcare.quantile(0.25)\n",
    "Q3 = numeric_Healthcare.quantile(0.75)\n",
    "IQR = Q3 - Q1\n",
    "lower_bound = Q1 - 1.5 * IQR\n",
    "upper_bound = Q3 + 1.5 * IQR\n",
    "outliers = (numeric_Healthcare < lower_bound) | (numeric_Healthcare > upper_bound)\n",
    "outliers_count = outliers.sum()\n",
    "print(outliers_count)"
   ]
  },
  {
   "cell_type": "code",
   "execution_count": null,
   "id": "2d6011ef-5c01-4188-b813-784a64067ad2",
   "metadata": {},
   "outputs": [],
   "source": []
  }
 ],
 "metadata": {
  "kernelspec": {
   "display_name": "Python 3 (ipykernel)",
   "language": "python",
   "name": "python3"
  },
  "language_info": {
   "codemirror_mode": {
    "name": "ipython",
    "version": 3
   },
   "file_extension": ".py",
   "mimetype": "text/x-python",
   "name": "python",
   "nbconvert_exporter": "python",
   "pygments_lexer": "ipython3",
   "version": "3.12.4"
  }
 },
 "nbformat": 4,
 "nbformat_minor": 5
}
